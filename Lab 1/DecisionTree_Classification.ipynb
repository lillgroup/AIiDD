{
  "cells": [
    {
      "cell_type": "code",
      "execution_count": null,
      "metadata": {
        "id": "ghwfIdYgNoqu"
      },
      "outputs": [],
      "source": [
        "# Install conda\n",
        "!pip install -q condacolab\n",
        "import condacolab\n",
        "condacolab.install()"
      ]
    },
    {
      "cell_type": "code",
      "execution_count": null,
      "metadata": {
        "id": "JD_his46Nrnj"
      },
      "outputs": [],
      "source": [
        "# Check conda installation\n",
        "import condacolab\n",
        "condacolab.check()\n",
        "\n",
        "# Install required packages\n",
        "!mamba install -c conda-forge pandas numpy matplotlib rdkit scikit-learn seaborn graphviz pydotplus\n",
        "\n",
        "# Download required files\n",
        "!wget https://github.com/lillgroup/AIiDD/releases/download/v2.0.0/lab1.tar.gz\n",
        "!tar -xzvf lab1.tar.gz"
      ]
    },
    {
      "cell_type": "markdown",
      "metadata": {
        "id": "_wYVDLzqNVv2"
      },
      "source": [
        "# Classification using Decision Trees\n",
        "\n",
        "In this notebook, we will use decision trees and physicochemical descriptors to classify compounds between those having decent blood brain barrier (BBB) penetration and those with do not."
      ]
    },
    {
      "cell_type": "code",
      "execution_count": null,
      "metadata": {
        "id": "B--nS3uONVv5"
      },
      "outputs": [],
      "source": [
        "import os\n",
        "import pandas as pd\n",
        "import numpy as np\n",
        "import matplotlib.pyplot as plt\n",
        "\n",
        "from rdkit import Chem, DataStructs\n",
        "from rdkit.Chem import Descriptors, Crippen, AllChem"
      ]
    },
    {
      "cell_type": "markdown",
      "metadata": {
        "id": "e2si96D6NVv6"
      },
      "source": [
        "There are some Warnings informing about future scipy changes.\n",
        "\n",
        "We will suppress them here as they have no influence on the results."
      ]
    },
    {
      "cell_type": "code",
      "execution_count": null,
      "metadata": {
        "id": "0BYvUNJVNVv7"
      },
      "outputs": [],
      "source": [
        "# import warnings filter\n",
        "from warnings import simplefilter\n",
        "\n",
        "# ignore all future warnings\n",
        "simplefilter(action=\"ignore\", category=FutureWarning)"
      ]
    },
    {
      "cell_type": "markdown",
      "metadata": {
        "id": "3Iyvtf2dNVv7"
      },
      "source": [
        "### Read data\n",
        "\n",
        "Here we use classification data on blood brain barrier (BBB) penetration."
      ]
    },
    {
      "cell_type": "code",
      "execution_count": null,
      "metadata": {
        "id": "I0yfT8QGNVv7"
      },
      "outputs": [],
      "source": [
        "tmp = pd.read_table(\"B3DB_classification.tsv\", sep=\"\\t\")\n",
        "\n",
        "table = tmp.loc[:, (\"compound_name\", \"IUPAC_name\", \"SMILES\", \"BBB+/BBB-\")]\n",
        "table = table.dropna(subset=\"BBB+/BBB-\")\n",
        "table.reset_index(drop=True, inplace=True)\n",
        "\n",
        "table.loc[:, \"BBB_class\"] = 0\n",
        "table.loc[table[\"BBB+/BBB-\"] == \"BBB+\", \"BBB_class\"] = 1\n",
        "\n",
        "# Drop the rows where molecule generated from SMILES sequence is none\n",
        "table = table[table[\"SMILES\"].apply(lambda x: Chem.MolFromSmiles(x) is not None)]\n",
        "\n",
        "table"
      ]
    },
    {
      "cell_type": "markdown",
      "metadata": {
        "id": "NfBw7ZOdNVv8"
      },
      "source": [
        "### Molecular descriptors calculation\n",
        "\n",
        "We can use RDKIT to calculate several molecular descriptors (2D and 3D)."
      ]
    },
    {
      "cell_type": "code",
      "execution_count": null,
      "metadata": {
        "id": "g75k_4h-NVv8"
      },
      "outputs": [],
      "source": [
        "# We will calculate the descriptors and add them to our table\n",
        "for i in table.index:\n",
        "    mol = Chem.MolFromSmiles(table.loc[i, \"SMILES\"])\n",
        "    table.loc[i, \"MolWt\"] = Descriptors.ExactMolWt(mol)\n",
        "    table.loc[i, \"TPSA\"] = Chem.rdMolDescriptors.CalcTPSA(\n",
        "        mol\n",
        "    )  # Topological Polar Surface Area\n",
        "    table.loc[i, \"nRotB\"] = Descriptors.NumRotatableBonds(\n",
        "        mol\n",
        "    )  # Number of rotable bonds\n",
        "    table.loc[i, \"HBD\"] = Descriptors.NumHDonors(mol)  # Number of H bond donors\n",
        "    table.loc[i, \"HBA\"] = Descriptors.NumHAcceptors(mol)  # Number of H bond acceptors\n",
        "    table.loc[i, \"LogP\"] = Descriptors.MolLogP(mol)  # LogP\n",
        "\n",
        "table"
      ]
    },
    {
      "cell_type": "markdown",
      "metadata": {
        "id": "gWAobBDnNVv9"
      },
      "source": [
        "### Model: We will use decision tree classification"
      ]
    },
    {
      "cell_type": "markdown",
      "metadata": {
        "id": "seTE4Zh7NVv9"
      },
      "source": [
        "Generate x (descriptors) and y (BBB_class) vectors"
      ]
    },
    {
      "cell_type": "code",
      "execution_count": null,
      "metadata": {
        "id": "cENF--saNVv9"
      },
      "outputs": [],
      "source": [
        "descriptors_selected = [\"MolWt\", \"TPSA\", \"HBD\", \"HBA\", \"LogP\"]\n",
        "\n",
        "x = table.loc[:, descriptors_selected].values\n",
        "y = table.loc[:, [\"BBB_class\"]].values"
      ]
    },
    {
      "cell_type": "markdown",
      "metadata": {
        "id": "5xX2ysDRNVv9"
      },
      "source": [
        "#### Split data into training and test set\n",
        "\n",
        "Here, we use random splitting"
      ]
    },
    {
      "cell_type": "code",
      "execution_count": null,
      "metadata": {
        "id": "AuQCR7XgNVv9"
      },
      "outputs": [],
      "source": [
        "# train test split\n",
        "from sklearn.model_selection import train_test_split\n",
        "\n",
        "x_train, x_test, y_train, y_test = train_test_split(x, y, test_size=0.2, random_state=1)\n",
        "\n",
        "x_train, x_valid, y_train, y_valid = train_test_split(\n",
        "    x_train, y_train, test_size=0.25, random_state=1\n",
        ")"
      ]
    },
    {
      "cell_type": "markdown",
      "metadata": {
        "id": "Fl2DxdtXNVv-"
      },
      "source": [
        "#### Generate model\n",
        "\n",
        "Next, we perform decision tree classification using maximum depth of 3"
      ]
    },
    {
      "cell_type": "code",
      "execution_count": null,
      "metadata": {
        "id": "muSmp8NmNVv-"
      },
      "outputs": [],
      "source": [
        "from sklearn import tree\n",
        "\n",
        "clf = tree.DecisionTreeClassifier(criterion=\"entropy\", max_depth=3)\n",
        "clf = clf.fit(x_train, y_train)\n",
        "\n",
        "print(\"maximum depth: {} nn score: {} \".format(3, clf.score(x_valid, y_valid)))"
      ]
    },
    {
      "cell_type": "markdown",
      "metadata": {
        "id": "OllkqAk1NVv-"
      },
      "source": [
        "#### Export graph of tree"
      ]
    },
    {
      "cell_type": "code",
      "execution_count": null,
      "metadata": {
        "id": "SH8CrljfNVv-"
      },
      "outputs": [],
      "source": [
        "import graphviz\n",
        "import pydotplus\n",
        "\n",
        "try:\n",
        "    from StringIO import StringIO  ## for Python 2\n",
        "except ImportError:\n",
        "    from io import StringIO  ## for Python 3\n",
        "\n",
        "\n",
        "dt_data = StringIO()\n",
        "tree.export_graphviz(\n",
        "    clf,\n",
        "    out_file=dt_data,\n",
        "    feature_names=descriptors_selected,\n",
        "    class_names=[\"BBB-\", \"BBB+\"],\n",
        "    filled=True,\n",
        "    rounded=True,\n",
        "    special_characters=True,\n",
        ")\n",
        "graph = pydotplus.graph_from_dot_data(dt_data.getvalue())\n",
        "graph.write_png(\"my_decision_tree.png\")"
      ]
    },
    {
      "cell_type": "markdown",
      "metadata": {
        "id": "0jaSXCq2NVv-"
      },
      "source": [
        "#### Tree depth\n",
        "\n",
        "We will repeat decision tree classification for different maximum depth values"
      ]
    },
    {
      "cell_type": "code",
      "execution_count": null,
      "metadata": {
        "id": "N4l9PYEDNVv_"
      },
      "outputs": [],
      "source": [
        "# check dependency on max_depth\n",
        "score_list = []\n",
        "for maxd in range(1, 25):\n",
        "    clf = tree.DecisionTreeClassifier(criterion=\"entropy\", max_depth=maxd)\n",
        "    clf = clf.fit(x_train, y_train)\n",
        "    score_list.append(clf.score(x_valid, y_valid))\n",
        "\n",
        "plt.plot(range(1, 25), score_list)\n",
        "plt.xlabel(\"k values\")\n",
        "plt.ylabel(\"accuracy\")\n",
        "plt.show()"
      ]
    },
    {
      "cell_type": "markdown",
      "metadata": {
        "id": "L4cMH_OeNVv_"
      },
      "source": [
        "Take the best max_depth value\n"
      ]
    },
    {
      "cell_type": "code",
      "execution_count": null,
      "metadata": {
        "id": "u0yd3XMENVv_"
      },
      "outputs": [],
      "source": [
        "# knn model\n",
        "clf = tree.DecisionTreeClassifier(criterion=\"entropy\", max_depth=20)\n",
        "clf = clf.fit(x_train, y_train)\n",
        "\n",
        "prediction = clf.predict(x_test)\n",
        "print(\" {} nn score: {} \".format(20, clf.score(x_test, y_test)))"
      ]
    },
    {
      "cell_type": "markdown",
      "metadata": {
        "id": "x10g0a9SNVv_"
      },
      "source": [
        "#### Confusion matrix\n",
        "\n",
        "To better visualize the results we compute the confusion matrix highlighting number of true negative (top-left), true positive (bottom-right), false negatives (bottom-left) and false positive (top-right) samples."
      ]
    },
    {
      "cell_type": "code",
      "execution_count": null,
      "metadata": {
        "id": "oWYU92beNVv_"
      },
      "outputs": [],
      "source": [
        "# %% confusion matrix\n",
        "y_pred = clf.predict(x_test)\n",
        "y_true = y_test\n",
        "\n",
        "from sklearn.metrics import confusion_matrix, precision_score, recall_score\n",
        "\n",
        "cm = confusion_matrix(y_true, y_pred)\n",
        "\n",
        "# %% cm visualization\n",
        "import seaborn as sns\n",
        "\n",
        "f, ax = plt.subplots(figsize=(5, 5))\n",
        "sns.heatmap(cm, annot=True, linewidths=0.5, linecolor=\"red\", fmt=\".0f\", ax=ax)\n",
        "plt.xlabel(\"y_pred\")\n",
        "plt.ylabel(\"y_true\")\n",
        "plt.show()"
      ]
    },
    {
      "cell_type": "markdown",
      "metadata": {
        "id": "zIuH7CMMNVv_"
      },
      "source": [
        "#### Compute classification metrics\n",
        "\n",
        "![dp8bpR5.png](data:image/png;base64,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)\n",
        "\n",
        "$Precision = \\frac{tp}{tp + fp}$ ------------------------------\n",
        "$Recall = \\frac{tp}{tp + fn}$"
      ]
    },
    {
      "cell_type": "code",
      "execution_count": null,
      "metadata": {
        "id": "D_LrlD8ZNVwA"
      },
      "outputs": [],
      "source": [
        "tn, fp, fn, tp = cm.ravel()\n",
        "print(\n",
        "    \"True negatives:  {}\\nFalse positives: {}\\nFalse negatives: {}\\nTrue positives:  {}\\n\".format(\n",
        "        tn, fp, fn, tp\n",
        "    )\n",
        ")\n",
        "\n",
        "print(\"Precision : {:.2f}\\n\".format(precision_score(y_true, y_pred)))\n",
        "print(\"Recall    : {:.2f}\\n\".format(recall_score(y_true, y_pred)))"
      ]
    }
  ],
  "metadata": {
    "colab": {
      "provenance": []
    },
    "kernelspec": {
      "display_name": "Python 3.10.8 ('shallow_ml')",
      "language": "python",
      "name": "python3"
    },
    "language_info": {
      "codemirror_mode": {
        "name": "ipython",
        "version": 3
      },
      "file_extension": ".py",
      "mimetype": "text/x-python",
      "name": "python",
      "nbconvert_exporter": "python",
      "pygments_lexer": "ipython3",
      "version": "3.10.8"
    },
    "orig_nbformat": 4,
    "vscode": {
      "interpreter": {
        "hash": "b27a49d05b1edc481c11a586dad53c11bdcb63128eeca144f8ebcf35b86ec5ed"
      }
    }
  },
  "nbformat": 4,
  "nbformat_minor": 0
}
