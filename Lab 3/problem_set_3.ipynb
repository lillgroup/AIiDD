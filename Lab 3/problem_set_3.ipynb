{
 "cells": [
  {
   "cell_type": "markdown",
   "metadata": {},
   "source": [
    "# Problem Set 3"
   ]
  },
  {
   "cell_type": "markdown",
   "metadata": {},
   "source": [
    "Notes:\n",
    "- Please rename the file following the format `surname1_surname2_surname3_problem_set_3.ipynb` before submitting it on ADAM under under `Student Submissions of Problem Solutions/Problems 3`.\n",
    "- Please show all your work. For answers that only require text, please add `markdown` cells."
   ]
  },
  {
   "cell_type": "code",
   "execution_count": null,
   "metadata": {},
   "outputs": [],
   "source": [
    "# Install conda\n",
    "!pip install -q condacolab\n",
    "import condacolab\n",
    "condacolab.install()"
   ]
  },
  {
   "cell_type": "code",
   "execution_count": 11,
   "metadata": {},
   "outputs": [],
   "source": [
    "# Check conda installation\n",
    "import condacolab\n",
    "condacolab.check()\n",
    "\n",
    "# Install required packages\n",
    "!mamba install python=3.10 pip\n",
    "!mamba install -c conda-forge openbabel\n",
    "!pip3 install torch torchvision torchaudio --index-url https://download.pytorch.org/whl/cu126\n",
    "!pip3 install numpy rdkit scikit-learn lightning\n",
    "\n",
    "# Download required files\n",
    "!wget https://github.com/lillgroup/AIiDD/releases/download/v2.0.0/lab3.tar.gz\n",
    "!tar -xzvf lab3.tar.gz"
   ]
  },
  {
   "cell_type": "markdown",
   "metadata": {},
   "source": [
    "## 1. Transformer model, Similarity screening (scripts: encode.py and screen.py) [7 points]\n",
    "### a. Encode actives using encode.py"
   ]
  },
  {
   "cell_type": "code",
   "execution_count": null,
   "metadata": {},
   "outputs": [],
   "source": [
    "!python3 encode.py -c \"models/2D_similarity_model_full.ckpt\" -s \"ESR1/actives_final.ism\" -o \"ESR1/actives_final.pk\""
   ]
  },
  {
   "cell_type": "markdown",
   "metadata": {},
   "source": [
    "### b. Calculate similarities for actives using screen.py"
   ]
  },
  {
   "cell_type": "code",
   "execution_count": null,
   "metadata": {},
   "outputs": [],
   "source": [
    "!python3 screen.py -c \"models/2D_similarity_model_full.ckpt\" -s \"ESR1/actives_selected_1.ism\" -e \"ESR1/actives_final.pk\" -d \"ESR1/actives_final.ism\" -k 25000 -o \"ESR1/actives_selected_1.csv\""
   ]
  },
  {
   "cell_type": "markdown",
   "metadata": {},
   "source": [
    "### c. Encode decoys using encode.py"
   ]
  },
  {
   "cell_type": "code",
   "execution_count": null,
   "metadata": {},
   "outputs": [],
   "source": [
    "!python3 encode.py -c \"models/2D_similarity_model_full.ckpt\" -s \"ESR1/decoys_final.ism\" -o \"ESR1/decoys_final.pk\""
   ]
  },
  {
   "cell_type": "markdown",
   "metadata": {},
   "source": [
    "### d. Calculate similarities for decoys using screen.py"
   ]
  },
  {
   "cell_type": "code",
   "execution_count": null,
   "metadata": {},
   "outputs": [],
   "source": [
    "!python3 screen.py -c \"models/2D_similarity_model_full.ckpt\" -s \"ESR1/actives_selected_1.ism\" -e \"ESR1/decoys_final.pk\" -d \"ESR1/decoys_final.ism\" -k 25000 -o \"ESR1/decoys_selected_1.csv\""
   ]
  },
  {
   "cell_type": "markdown",
   "metadata": {},
   "source": [
    "### e. AUC ROC analysis\n",
    "\n",
    "Write some code (e.g. based on sklearn and matplotlib) to plot ROC curve (% actives found vs. % ranked molecules):\n",
    "- `actives_selected_1.csv` and `decoys_selected_1.csv` need to be read in\n",
    "- actives and decoys need to be labelled separately\n",
    "- all compounds need to be sorted by similarity value: use column “Squared_distance” and convert it to similarity (see lecture)\n",
    "- Compute AUC value"
   ]
  },
  {
   "cell_type": "markdown",
   "metadata": {},
   "source": [
    "### f. Repeat process\n",
    "Repeat process using `actives_selected_2.ism` then `actives_selected_3.ism` as query compounds."
   ]
  },
  {
   "cell_type": "markdown",
   "metadata": {},
   "source": [
    "## 2. Transformer model, De novo design (scripts: generate.py) [3 points]\n",
    "### a. Generate molecules do novo based on active molecule\n",
    "For this examples, you can select any SMILES string from `actives_final.ism` file"
   ]
  },
  {
   "cell_type": "code",
   "execution_count": null,
   "metadata": {},
   "outputs": [],
   "source": [
    "!python3 generate.py -c \"models/2D_similarity_model_full_2.ckpt\" -s \"CCC2C(c1ccc(O)cc1)=C(CC)c3ccc(O)cc23\" -o \"ESR1/denovo_molecules_1.ism\""
   ]
  },
  {
   "cell_type": "markdown",
   "metadata": {},
   "source": [
    "### b. Retrosynthesis prediction\n",
    "\n",
    "Sketch generated smiles strings (e.g. using https://pubchem.ncbi.nlm.nih.gov/edit3/index.html) for top-ranked de novo compounds.\n",
    "\n",
    "Select three compounds from your de novo list that seem chemically feasible and run them through IBM RXN for Chemistry (https://rxn.app.accelerate.science/rxn/home ) and choose “Predict retrosynthetic routes” for all three compounds. Discuss if your choice of compounds was feasible."
   ]
  }
 ],
 "metadata": {
  "kernelspec": {
   "display_name": "Python 3",
   "language": "python",
   "name": "python3"
  },
  "language_info": {
   "codemirror_mode": {
    "name": "ipython",
    "version": 3
   },
   "file_extension": ".py",
   "mimetype": "text/x-python",
   "name": "python",
   "nbconvert_exporter": "python",
   "pygments_lexer": "ipython3",
   "version": "3.13.2"
  }
 },
 "nbformat": 4,
 "nbformat_minor": 2
}
